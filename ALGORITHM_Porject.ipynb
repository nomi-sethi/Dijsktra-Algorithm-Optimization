{
  "nbformat": 4,
  "nbformat_minor": 0,
  "metadata": {
    "colab": {
      "name": "ALGO_Porject.ipynb",
      "provenance": [],
      "collapsed_sections": []
    },
    "kernelspec": {
      "name": "python3",
      "display_name": "Python 3"
    },
    "language_info": {
      "name": "python"
    }
  },
  "cells": [
    {
      "cell_type": "code",
      "metadata": {
        "colab": {
          "base_uri": "https://localhost:8080/"
        },
        "id": "s8bDzr3py_y2",
        "outputId": "b8d23706-7c06-49f1-8568-21df8dc0f46f"
      },
      "source": [
        "print ('Bismillah Hir Rehman Nir Rahim')"
      ],
      "execution_count": 149,
      "outputs": [
        {
          "output_type": "stream",
          "text": [
            "Bismillah Hir Rehman Nir Rahim\n"
          ],
          "name": "stdout"
        }
      ]
    },
    {
      "cell_type": "markdown",
      "metadata": {
        "id": "c16eAmYivNAE"
      },
      "source": [
        "# **Importing Libraries**"
      ]
    },
    {
      "cell_type": "code",
      "metadata": {
        "id": "S_5nHSyN8nzq"
      },
      "source": [
        "import matplotlib.pyplot as plt\n",
        "import heapq\n",
        "import numpy as np\n",
        "import pandas as pd\n",
        "from queue import PriorityQueue\n",
        "\n",
        "import time\n",
        "%matplotlib inline\n",
        "import matplotlib.pyplot as plt\n",
        "import networkx as nx\n",
        "from itertools import combinations\n",
        "from random import random\n",
        "from random import randint"
      ],
      "execution_count": 162,
      "outputs": []
    },
    {
      "cell_type": "markdown",
      "metadata": {
        "id": "6ziczKSeu89J"
      },
      "source": [
        "# **Generate Random Graph on the basis of Vertices & Edges**"
      ]
    },
    {
      "cell_type": "code",
      "metadata": {
        "id": "dNpgvqp6u4nt"
      },
      "source": [
        "def ER(n, p):\n",
        "    V = set([v for v in range(n)])\n",
        "    E = set()\n",
        "    for combination in combinations(V, 2):\n",
        "        a = random()\n",
        "        if a < p:\n",
        "            E.add(combination)\n",
        "    g = nx.Graph()\n",
        "    matrix=np.array([[0]*n]*n)\n",
        "    for i in E:\n",
        "      val=randint(0, 9)\n",
        "      matrix[i[0],i[1]]=val\n",
        "      matrix[i[1],i[0]]=val\n",
        "    for i in range(n):\n",
        "      for j in range(n):\n",
        "        if i!=j:\n",
        "          if matrix[i][j]==0:\n",
        "            matrix[i][j]=INF\n",
        "    g.add_nodes_from(V)\n",
        "    g.add_edges_from(E)\n",
        "    return matrix,list(V),list(E)\n",
        "\n",
        "#pos = nx.spring_layout(graph)\n",
        "#nx.draw_networkx(graph, pos)\n",
        "#plt.title(\"Random Graph Generation Example\")\n",
        "#plt.show()"
      ],
      "execution_count": 163,
      "outputs": []
    },
    {
      "cell_type": "markdown",
      "metadata": {
        "id": "yfU5HSTZ3vb3"
      },
      "source": [
        "# **Initials**"
      ]
    },
    {
      "cell_type": "code",
      "metadata": {
        "id": "mcuv4HrM3ub6"
      },
      "source": [
        "def initialize_values():\n",
        "  # Defining a positive infinite integer\n",
        "  INF = 99999\n",
        "\n",
        "  #Edges & Vertices\n",
        "  V_vertices = len(V_)\n",
        "  E_edges = len(E_)\n",
        "\n",
        "  #graph = [[0, 3, INF, 7],\n",
        "  #         [8, 0, 2, INF],\n",
        "  #         [5, INF, 0,   1],\n",
        "  #         [2, INF, INF, 0]\n",
        "  #         ]\n",
        "\n",
        "  # WEIGHT MATRIX: L\n",
        "  \"\"\"L: the matrix containing the edge weights, where L[u, v] is the weight of edge (u, v). If the edge (u, v) does not exist, then L[u, v] = ∞;\"\"\"\n",
        "  weight_matrix = list(map(lambda i: list(map(lambda j: j, i)), graph))\n",
        "\n",
        "  # DISTANCE MATRIX: D\n",
        "  \"\"\"D: the distance matrix, where D[u, v] is the distance from the vertex u to v. Initially, D[u, v] = ∞ for all vertex pairs;\"\"\"\n",
        "  distance_matrix = [[0 if i==j else INF for j in range(V_vertices) ] for i in range(V_vertices)]\n",
        "\n",
        "  # Flag for vertices\n",
        "  \"\"\"flag: the vector to indicate whether the shortest paths from a vertex to other vertices have been calculated. All\n",
        "  elements of the vector are set to zero initially. After the shortest paths for vertex u are calculated, flag[u] is set\n",
        "  to 1.\"\"\"\n",
        "  flag = {}\n",
        "\n",
        "  # The vertives/nodes we have\n",
        "  vertices_names = [str(i) for i in range(V_vertices)]\n",
        "\n",
        "  #Min priority Queue\n",
        "  min_queue = []\n",
        "  \n",
        "  # Dataframes for edge weight & distance matrices\n",
        "  df_L = pd.DataFrame(weight_matrix,index = [str(i) for i in range(V_vertices)],columns=[str(i) for i in range(V_vertices)])\n",
        "  df_D = pd.DataFrame(distance_matrix,columns=[str(i) for i in range(V_vertices)])"
      ],
      "execution_count": 164,
      "outputs": []
    },
    {
      "cell_type": "markdown",
      "metadata": {
        "id": "ebeVqz_o3SOt"
      },
      "source": [
        "\n",
        "\n",
        "---\n",
        "\n",
        "\n",
        "\n",
        "---\n",
        "\n",
        "\n",
        "# **Procedure 1: Modified Dijkstra’s Procedure**"
      ]
    },
    {
      "cell_type": "code",
      "metadata": {
        "id": "malkOy7J0Bpv"
      },
      "source": [
        "def mod_dijkstra(V,E,source):\n",
        "  s = source\n",
        "  df_D.at[int(s), s] = 0              # D[s, s] = 0\n",
        "  heapq.heappush(min_queue, (df_D.at[int(s), s], s))            # Q = {s}\n",
        "\n",
        "  while len(min_queue) != 0:\n",
        "    key,t = heapq.heappop(min_queue)    # t=DeQueue(Q)\n",
        "    t = str(t)\n",
        "    if flag[t] == 1:\n",
        "      print(\" HELO YAAR KAISAY HO \")\n",
        "      for v in V:\n",
        "        if (df_D.at[int(s), t] + df_D.at[int(t), v]  < df_D.at[int(s), v]):    #D[s, t] + D[t, v] < D[s, v]\n",
        "          df_D.at[int(s), v] = df_D.at[int(s), t] + df_D.at[int(t), v]        #D[s, v]=D[s, t] + D[t, v]\n",
        "    else:\n",
        "      # find t adjacent nodes\n",
        "      t_row = df_L.loc[t]\n",
        "      v_array = []\n",
        "      index = 0\n",
        "      for v in V:\n",
        "        if (t_row[index] != INF and t != v):\n",
        "          v_array.append(df_L.columns[index])\n",
        "        index+=1 \n",
        "\n",
        "      for v in v_array:              #each edge (t, v) outgoing from t do     \n",
        "        if (df_D.at[int(s), t] + df_L.loc[t, v] < df_D.at[int(s), v]):     #D[s, t] + L[t, v] < D[s, v]\n",
        "          df_D.at[int(s), v] = df_D.at[int(s), t] + df_L.loc[t, v]         #D[s, v] = D[s, t] + L[t, v]\n",
        "          # Push value in min priority queue\n",
        "          heapq.heappush(min_queue, (df_D.at[int(s), v], v))  # Enqueue(Q,v)\n",
        "\n",
        "  flag[s] = 1"
      ],
      "execution_count": 165,
      "outputs": []
    },
    {
      "cell_type": "markdown",
      "metadata": {
        "id": "iqWEZWWy3YOY"
      },
      "source": [
        "# **Algorithm 3: Adaptive Algorithm for the APSP Problem**"
      ]
    },
    {
      "cell_type": "code",
      "metadata": {
        "id": "m2XGG7YBuP3Z"
      },
      "source": [
        "def timeCalculate():\n",
        "  start = time.time()\n",
        "  #print(\"Start time: \", start)\n",
        "\n",
        "  for v in vertices_names:\n",
        "    flag[v] = 0\n",
        "  neighbours=[]\n",
        "  degree=[]\n",
        "  distances_arr=np.array(df_L)\n",
        "  unacceptable=[0,INF]\n",
        "\n",
        "  ordered_vertices=[]\n",
        "  for v in vertices_names:\n",
        "      distances=distances_arr[int(v)]\n",
        "      neighbours.append(np.setdiff1d(distances,unacceptable).shape[0])\n",
        "  order=(np.arange(0,len(neighbours)))\n",
        "  zipped_lists = zip(neighbours,order)\n",
        "  temp_arr=sorted(zipped_lists,reverse=True)\n",
        "  modified_order=[]\n",
        "\n",
        "  for i in temp_arr:\n",
        "    modified_order.append(i[1])\n",
        "\n",
        "  for i in modified_order:\n",
        "    mod_dijkstra(vertices_names,E_edges,str(vertices_names[i]))\n",
        "  #print(\"End time in seconds ---\" , time.time() - start)\n",
        "  return time.time() - start"
      ],
      "execution_count": 166,
      "outputs": []
    },
    {
      "cell_type": "code",
      "metadata": {
        "id": "Z9Beq-GmsKUf"
      },
      "source": [
        "inputs = [10, 30, 50, 70, 90, 120,150]\n",
        "output_time_modDijkstra = []\n",
        "for i in inputs:\n",
        "  p = 0.4\n",
        "  graph,V_,E_ = ER(i, p)\n",
        "  initialize_values()\n",
        "  output_time_modDijkstra.append(timeCalculate())\n"
      ],
      "execution_count": 176,
      "outputs": []
    },
    {
      "cell_type": "markdown",
      "metadata": {
        "id": "A-GIAG20-ZV9"
      },
      "source": [
        "# **Graph of Modified Proposed Dijkstra Algorithm**"
      ]
    },
    {
      "cell_type": "code",
      "metadata": {
        "colab": {
          "base_uri": "https://localhost:8080/",
          "height": 312
        },
        "id": "OYq5Tmgw-Yu8",
        "outputId": "e35094e3-daea-4998-f3d9-d3435bff15bf"
      },
      "source": [
        "plt.plot(inputs, output_time_modDijkstra)\n",
        "\n",
        "# Set the x axis label of the current axis.\n",
        "plt.xlabel('No of Nodes')\n",
        "# Set the y axis label of the current axis.\n",
        "plt.ylabel('Average Time (seconds)')\n",
        "# Set a title \n",
        "plt.title('Modified Dijkstra Algo')"
      ],
      "execution_count": 177,
      "outputs": [
        {
          "output_type": "execute_result",
          "data": {
            "text/plain": [
              "Text(0.5, 1.0, 'Modified Dijkstra Algo')"
            ]
          },
          "metadata": {
            "tags": []
          },
          "execution_count": 177
        },
        {
          "output_type": "display_data",
          "data": {
            "image/png": "[encoded data removed]",
            "text/plain": [
              "<Figure size 432x288 with 1 Axes>"
            ]
          },
          "metadata": {
            "tags": [],
            "needs_background": "light"
          }
        }
      ]
    },
    {
      "cell_type": "code",
      "metadata": {
        "colab": {
          "base_uri": "https://localhost:8080/"
        },
        "id": "8Unk2UzRktom",
        "outputId": "65f4bd2c-5d32-4f14-dcdc-cdb0465b3009"
      },
      "source": [
        "print(output_time_modDijkstra)"
      ],
      "execution_count": 168,
      "outputs": [
        {
          "output_type": "stream",
          "text": [
            "[0.12166810035705566, 0.12336087226867676, 0.12163567543029785, 0.13036251068115234, 0.1312403678894043, 0.12492156028747559, 0.12446236610412598]\n"
          ],
          "name": "stdout"
        }
      ]
    },
    {
      "cell_type": "markdown",
      "metadata": {
        "id": "ioia0I0o-iVP"
      },
      "source": [
        "# **Floyd Warshall Algorithm**"
      ]
    },
    {
      "cell_type": "code",
      "metadata": {
        "id": "cvqc6UHAny-a"
      },
      "source": [
        "def floydWarshall(graph,V):\n",
        "    start = time.time()\n",
        "    dist = list(map(lambda i: list(map(lambda j: j, i)), graph))\n",
        "    for k in range(V):\n",
        "        # pick all vertices as source one by one\n",
        "        for i in range(V):\n",
        "            # Pick all vertices as destination for the\n",
        "            # above picked source\n",
        "            for j in range(V):\n",
        "                # If vertex k is on the shortest path from\n",
        "                # i to j, then update the value of dist[i][j]\n",
        "                dist[i][j] = min(dist[i][j], dist[i][k] + dist[k][j])\n",
        "    return time.time() - start        "
      ],
      "execution_count": 169,
      "outputs": []
    },
    {
      "cell_type": "code",
      "metadata": {
        "id": "-cfC8UOir5Kh"
      },
      "source": [
        "output_time_floyd = []\n",
        "for i in inputs:\n",
        "  p = 0.4\n",
        "  graph,V_,E_ = ER(i, p)\n",
        "  output_time_floyd.append(floydWarshall(graph,len(V_)))\n"
      ],
      "execution_count": 174,
      "outputs": []
    },
    {
      "cell_type": "markdown",
      "metadata": {
        "id": "fpFTpN4h-LRq"
      },
      "source": [
        "# **Floyd-Warshal All Pair Shortest Path Graph**"
      ]
    },
    {
      "cell_type": "code",
      "metadata": {
        "colab": {
          "base_uri": "https://localhost:8080/",
          "height": 295
        },
        "id": "jk0G5zpu-KTG",
        "outputId": "5fc9245f-bd12-4a7d-be69-bcf09218302b"
      },
      "source": [
        "plt.plot(inputs, output_time_floyd)\n",
        "\n",
        "# Set the x axis label of the current axis.\n",
        "plt.xlabel('No of Nodes')\n",
        "# Set the y axis label of the current axis.\n",
        "plt.ylabel('Average Time (seconds)')\n",
        "# Set a title \n",
        "plt.title('All Path Shortest Path - FloydWarshall Algo')\n",
        "\n",
        "plt.show()"
      ],
      "execution_count": 175,
      "outputs": [
        {
          "output_type": "display_data",
          "data": {
            "image/png": "[encoded data removed]",
            "text/plain": [
              "<Figure size 432x288 with 1 Axes>"
            ]
          },
          "metadata": {
            "tags": [],
            "needs_background": "light"
          }
        }
      ]
    },
    {
      "cell_type": "code",
      "metadata": {
        "colab": {
          "base_uri": "https://localhost:8080/"
        },
        "id": "1fI2z6bluBxx",
        "outputId": "9d74dd86-8118-4913-b9f2-bdf87cf14992"
      },
      "source": [
        "output_time_floyd"
      ],
      "execution_count": 171,
      "outputs": [
        {
          "output_type": "execute_result",
          "data": {
            "text/plain": [
              "[0.0014598369598388672,\n",
              " 0.013007402420043945,\n",
              " 0.0591123104095459,\n",
              " 0.16204190254211426,\n",
              " 0.3498842716217041,\n",
              " 0.8571276664733887,\n",
              " 1.6884324550628662]"
            ]
          },
          "metadata": {
            "tags": []
          },
          "execution_count": 171
        }
      ]
    },
    {
      "cell_type": "markdown",
      "metadata": {
        "id": "Dhjc-urA9e-Y"
      },
      "source": [
        "# **Comparison of both algorithms**\n",
        "# **1. Modified Dijkstra Algo**\n",
        "# 2**. All Path Shortest Path - FloydWarshall Algo**"
      ]
    },
    {
      "cell_type": "code",
      "metadata": {
        "id": "GmVWN4RYz_4Z",
        "colab": {
          "base_uri": "https://localhost:8080/",
          "height": 614
        },
        "outputId": "ffb5dd78-277d-4cd4-f30c-41dd52e5bf5f"
      },
      "source": [
        "f = plt.figure()\n",
        "f.set_figwidth(10)\n",
        "f.set_figheight(10)\n",
        "plt.ylim([0, 0.2])\n",
        "plt.plot(inputs, output_time_modDijkstra)\n",
        "plt.plot(inputs, output_time_floyd)\n",
        "plt.legend([\"Modified Dijkstra Algo\", \"All Path Shortest Path - FloydWarshall Algo\"])"
      ],
      "execution_count": 173,
      "outputs": [
        {
          "output_type": "stream",
          "text": [
            "[0.12166810035705566, 0.12336087226867676, 0.12163567543029785, 0.13036251068115234, 0.1312403678894043, 0.12492156028747559, 0.12446236610412598]\n"
          ],
          "name": "stdout"
        },
        {
          "output_type": "display_data",
          "data": {
            "image/png": "[encoded data removed]",
            "text/plain": [
              "<Figure size 720x720 with 1 Axes>"
            ]
          },
          "metadata": {
            "tags": [],
            "needs_background": "light"
          }
        }
      ]
    },
    {
      "cell_type": "code",
      "metadata": {
        "id": "CYpmP0K_y4y4"
      },
      "source": [
        ""
      ],
      "execution_count": 173,
      "outputs": []
    }
  ]
}